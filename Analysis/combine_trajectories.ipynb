{
 "cells": [
  {
   "cell_type": "markdown",
   "metadata": {},
   "source": [
    "# Combine Trajectories\n",
    "\n",
    "The cell below concatenates two molecular trajectories A and B that were started from the same initial state. Trajectory A is a glycine crystal that dissolves. Trajectory B is a glycine crystal that grows. Before these trajectories are merged, A is inverted. This results in a long trajectory that crosses the nucleation barrier."
   ]
  },
  {
   "cell_type": "code",
   "execution_count": 1,
   "metadata": {},
   "outputs": [
    {
     "name": "stdout",
     "output_type": "stream",
     "text": [
      "Loading topology for Run A...\n",
      "Topology loaded.\n",
      "Reversing Run A frames...\n",
      "Loading topology reversed A...\n",
      "Topology loaded.\n",
      "Loading topology for Run B...\n",
      "Topology loaded.\n",
      "Concatenating trajectories...\n",
      "Combined trajectory saved successfully as trajectory_A_B.trr\n"
     ]
    }
   ],
   "source": [
    "import MDAnalysis as mda\n",
    "import os\n",
    "\n",
    "# Define topology (shared by trajectories)\n",
    "topology_file = f'Trajectories/1.7nm/gamma_glycine_crystal_3_2_3_box_5.0_1.7nm_sphere_insert_303_solv_minim_npteq275K.gro'\n",
    "\n",
    "# Define trajectories file names\n",
    "trajectory_A = 'Trajectories/1.7nm/gamma_glycine_crystal_3_2_3_box_5.0_1.7nm_sphere_insert_303_solv_minim_npteq275K_md_run8_short.trr' \n",
    "trajectory_B = 'Trajectories/1.7nm/gamma_glycine_crystal_3_2_3_box_5.0_1.7nm_sphere_insert_303_solv_minim_npteq275K_md_run3_short.trr'  \n",
    "\n",
    "# Load the topology A\n",
    "print(\"Loading topology for Run A...\")\n",
    "traj_A = mda.Universe(topology_file, trajectory_A)\n",
    "print(\"Topology loaded.\")\n",
    "\n",
    "# Reverse A and write to a new trajectory (positions and velocities)\n",
    "with mda.Writer('reversed_A.trr', n_atoms=traj_A.atoms.n_atoms) as W:\n",
    "    print(\"Reversing Run A frames...\")\n",
    "    for ts in reversed(traj_A.trajectory[1:]):  # First frame in common with B is skipped\n",
    "        # Reverse velocities as well if available\n",
    "        if hasattr(traj_A.trajectory, 'velocities'):\n",
    "            traj_A.atoms.velocities *= -1  # Invert the velocities\n",
    "        W.write(traj_A.atoms)\n",
    "\n",
    "# Load reversed trajectory A\n",
    "print(\"Loading topology reversed A...\")\n",
    "u_reversed = mda.Universe(topology_file, 'reversed_A.trr')\n",
    "print(\"Topology loaded.\")\n",
    "\n",
    "# Load the topology for Run B\n",
    "print(\"Loading topology for Run B...\")\n",
    "traj_B = mda.Universe(topology_file, trajectory_B)\n",
    "print(\"Topology loaded.\")\n",
    "\n",
    "# Concatenate trimmed reversed Run A with Run B\n",
    "print(\"Concatenating trajectories...\")\n",
    "with mda.Writer('trajectory_A_B.trr', n_atoms=traj_A.atoms.n_atoms) as W:\n",
    "    # Write frames from reversed A\n",
    "    for ts in u_reversed.trajectory:\n",
    "        W.write(u_reversed.atoms)\n",
    "    # Write frames from B\n",
    "    for ts in traj_B.trajectory:\n",
    "        W.write(traj_B.atoms)\n",
    "\n",
    "print(f\"Combined trajectory saved successfully as trajectory_A_B.trr\")\n"
   ]
  }
 ],
 "metadata": {
  "kernelspec": {
   "display_name": "Python 3",
   "language": "python",
   "name": "python3"
  },
  "language_info": {
   "codemirror_mode": {
    "name": "ipython",
    "version": 3
   },
   "file_extension": ".py",
   "mimetype": "text/x-python",
   "name": "python",
   "nbconvert_exporter": "python",
   "pygments_lexer": "ipython3",
   "version": "3.10.13"
  }
 },
 "nbformat": 4,
 "nbformat_minor": 2
}
